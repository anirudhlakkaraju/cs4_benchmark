{
  "cells": [
    {
      "cell_type": "code",
      "execution_count": null,
      "metadata": {
        "colab": {
          "base_uri": "https://localhost:8080/"
        },
        "id": "gDqjKXAE-nFR",
        "outputId": "f6f52d79-86c9-46cd-a8ec-b34397d98a6a"
      },
      "outputs": [
        {
          "name": "stdout",
          "output_type": "stream",
          "text": [
            "Mounted at /content/drive\n"
          ]
        }
      ],
      "source": [
        "from google.colab import drive\n",
        "from google.colab import files\n",
        "drive.mount('/content/drive')"
      ]
    },
    {
      "cell_type": "code",
      "execution_count": null,
      "metadata": {
        "colab": {
          "base_uri": "https://localhost:8080/",
          "height": 293
        },
        "id": "dAyYZJlQ-w2Q",
        "outputId": "460e6b9f-4d88-4d92-deda-42dc07e16303"
      },
      "outputs": [
        {
          "data": {
            "application/vnd.google.colaboratory.intrinsic+json": {
              "summary": "{\n  \"name\": \"sheet\",\n  \"rows\": 29,\n  \"fields\": [\n    {\n      \"column\": \"Constraint\",\n      \"properties\": {\n        \"dtype\": \"string\",\n        \"num_unique_values\": 29,\n        \"samples\": [\n          \"1. In self-defense, Tom uses his gun.\\n2. Tom is alone and hears police sirens after leaving the psychic's room.\\n3. The attacker is revealed to be searching for a girl named Angela.\\n4. Use vivid descriptions to describe actions and scenes of the story.\\n5. Tom is beaten up by the bald man.\\n6. The story starts in the room of a psychic.\\n7. The story should be written in third person narrative.\\n8. Tom is there unwillingly because of his mother's insistence.\\n9. The entire text should maintain a fast-paced suspenseful tone.\\n10. A seriously wounded woman is discovered.\\n11. Tom finds a police car waiting at his home.\\n12. Tom experiences a high-speed car chase with his attacker.\\n13. Tom fatally shoots his attacker.\\n14. Tom decides to run to avoid the police.\\n15. Tom is unemployed and resides with his mother.\\n16. Tom's car manages to start, hinting possible divine intervention.\\n17. The narrative should gradually build tension, culminating in a violent clash.\\n18. The psychic has a peculiar voice and an odd way of appearing.\\n19. The psychic then frightens Tom to leave.\\n20. Tom identifies an escape route to an alley seen earlier in the day.\\n21. Familiarity with the neighbourhoods helps Tom escape.\\n22. His car battery is at a friend's house.\\n23. A suspicious and menacing man is watching Tom, making him anxious.\\n24. Tom's car is attacked by the SUV, causing it to roll over and ram into the shed.\\n25. Tom's car is hit from the rear by a large sports utility vehicle (SUV) belonging to the suspicious man.\\n26. The story must incorporate elements of the crime and mystery genres.\\n27. Tom retrieves a weapon due to his distrust for the police from past gang affiliations.\\n28. The psychic's room contains items used in movies.\\n29. The protagonist must be named Tom.\\n30. Tom prefers playing video games over visiting the psychic.\\n31. Unexpectedly, the psychic freezes and her voice changes.\\n32. Story should include a mix of direct and indirect dialogues.\\n33. Tom has attention deficit hyperactivity disorder (ADHD).\\n34. The chase ends at the psychic's shed.\\n35. Tom is brought to a stop due to a car-battery malfunction.\\n36. Tom has previous criminal records and is carrying an illegal substance.\\n37. The psychic's room is more like a shed.\\n38. The story ends with Tom attempting to aid the hurt woman.\\n39. Tom's mother wishes him to become more involved in society.\",\n          \"1. The protagonist should fear his parents' reaction if they discovered his allegiance to the resistance.\\n2. The protagonist should be playing with toys at the start of the story.\\n3. A large number of casualties must occur due to this new regulation.\\n4. The story must fast-forward to when the protagonist is in their late teens.\\n5. A sense of despair should be created in the description of the citizens adapting to the change.\\n6. The story should transition from a childhood memory to a darker future reality.\\n7. The story must be narrated in first person.\\n8. The story should involve the use of military intervention to enforce the new laws.\\n9. The protagonist must feel a sense of allegiance towards this resistance group.\\n10. The resistance group should communicate their ideology primarily via symbols and signs.\\n11. On a stylistic level, the story must include detailed descriptions.\\n12. The protagonist's family must strictly abide by the new laws.\\n13. The protagonist\\u2019s parents must disapprove of the resistance.\\n14. The main character's life should be significantly affected by these changes.\\n15. The setting must involve a typical family setup.\\n16. The protagonist must be a child when the significant event happens.\\n17. Electronic locking systems should be installed in every home.\\n18. It should be noted that the protagonist feels fear towards the military.\\n19. The story\\u2019s tone should convey a sense of oppression and longing.\\n20. The locking system should be remotely controlled by the President.\\n21. The ruler of the country, the President, must have control over when people can go outdoors.\\n22. The new regulation should generate a sense of longing for daylight within the general population.\\n23. The majority of the electorate must buy into the government\\u2019s narrative.\\n24. The narrative should use symbolism, such as comparing the oppressed citizens to vampires.\\n25. The resistance group's operations and whereabouts should remain mostly unknown.\\n26. The story should introduce a resistance group fighting against these laws.\\n27. The government's brutal enforcement of their laws should be repeatedly emphasized.\\n28. There must be a clear distinction between classes of citizens.\\n29. The story must be a retrospective account of past events.\\n30. The story should portray the corruption of the government.\\n31. The rich people should be allowed to roam freely during the day.\\n32. The narrative should include a dinner-time revelation about the resistance group.\\n33. The story should involve a suspenseful chase scene involving the protagonist.\\n34. The story must present a dystopian future where certain classes of people are prohibited from going outside during daylight hours.\\n35. The protagonist\\u2019s memory of past joyful times shared with his parents should function as a significant plot element.\\n36. The story should present an unfair disparity between the rich and the poor.\\n37. The resistance group should be named \\\"Sun's Children.\\\"\\n38. An alarming news broadcast must play a key role.\\n39. Citizens' biological clocks must adjust to this new way of life.\",\n          \"1. The protagonist should use nature (like a tree, water, light) to find their path.\\n2. The story must contain strong visual imagery related to the journey of the protagonist.\\n3. There must be elements of nature symbolism.\\n4. There should be a body of water symbolising purification.\\n5. The protagonist must have inner demons they're struggling with.\\n6. The story should involve a feeling of being deceived.\\n7. The plot should include veiled criticism or commentary of society's narrow-mindedness.\\n8. The plot must progress to a state where the protagonist is enlightened or finds a path.\\n9. Detailed descriptions of emotion are a requirement.\\n10. The protagonist should immerse themselves in the water.\\n11. The protagonist should be seeking help or a savior.\\n12. The protagonist must reclaim their self-worth and strength.\\n13. There should be a representation of the protagonist's troubled past.\\n14. The protagonist should rediscover their identity or self-worth.\\n15. The narrative must evoke feelings of hope.\\n16. The protagonist must arrive at a state of inner peace towards the end.\\n17. The narrative must include a moment of self-realisation, self-acceptance, or catharsis.\\n18. The narrative must contain profound introspection.\\n19. The ending must reflect the character's successful transformation after the initial struggle.\\n20. The protagonist gets lost in a forest.\\n21. The protagonist must struggle with societal norms or judgement.\\n22. The protagonist should metaphorically break away from constraints or chains.\\n23. There must be metaphorical shedding of old, worn-out parts of characters' life.\\n24. Past rejection or deceit should be indicated as part of the character's backstory.\\n25. Imagery of physical damage, like cuts or wounds, should be included.\\n26. Language play is compulsory, such as paradoxes, anti-climax, etc.\\n27. An element of spirituality or transformation should be present.\\n28. The narrative should include an element of self-reflection.\\n29. Use of potent, creative metaphors throughout the narrative is mandatory.\\n30. Have the protagonist express their courage or resilience.\\n31. The protagonist should drown or sink symbolically, indicating struggle or despair.\\n32. Elaborate descriptions of mental states and moods are critical.\\n33. Make the protagonist assume a role of a helper or a rescuer by the end.\\n34. The story needs to incorporate spiritual or philosophical questions.\\n35. The protagonist should contemplate on the innocence of the past or childhood.\\n36. The protagonist should exclaim their readiness for a change or transformation.\\n37. The protagonist should be alone and isolated.\\n38. The story must be written in the first person.\\n39. The narrative must involve the protagonist realizing they\\u2019ve had the strength within them all along.\"\n        ],\n        \"semantic_type\": \"\",\n        \"description\": \"\"\n      }\n    },\n    {\n      \"column\": \"Base\",\n      \"properties\": {\n        \"dtype\": \"string\",\n        \"num_unique_values\": 29,\n        \"samples\": [\n          \"\\n1. No - The story is missing the ending which should have Tom attempting to aid the hurt woman for this constraint to be satisfied.\\n2. No - This information is not explicitly mentioned in the story.\\n3. No - The identity or motive of the attacker, whether they are searching for a girl named Angela, is not revealed in the story.\\n4. Yes - The story uses vivid descriptions to narrate the actions and scenes of the plot, as evident in phrases like \\\"A symphony of flying fists, blood, and an overpowering sense of fear\\\".\\n5. No - Tom is not explicitly beaten up by a bald man in the story.\\n6. Yes - The story starts in the room of a psychic, aligning with this constraint.\\n7. Yes - The story is written in the third person narrative throughout.\\n8. No - It's not explicitly mentioned that Tom is at the psychic's room due to his mother's insistence.\\n9. Yes - The narrative maintains a fast-paced and suspenseful tone as per the constraint.\\n10. No - A seriously wounded woman is not discovered within the story.\\n11. No - Tom finding a police car waiting at his home is not part of the story.\\n12. No - There is no mention of a high-speed car chase experienced by Tom with his attacker.\\n13. No - Tom does not fatally shoot his attacker in the story.\\n14. No - There is no indication that Tom decides to run to avoid the police.\\n15. No - Tom's employment status and living arrangement are not explicitly mentioned.\\n16. No - There is no divine intervention suggested by Tom's car starting in the narrative.\\n17. Yes - The story gradually builds tension, leading to a violent clash, fulfilling this constraint.\\n18. Yes - The psychic is described with peculiar voice and odd appearances in the story.\\n19. No - The psychic did not particularly frighten Tom to leave the room.\\n20. No - There is no mention of Tom identifying an escape route to an alley seen earlier.\\n21. No - Tom's familiarity with the neighborhood to help in his escape is not explicitly stated.\\n22. No - Tom's car battery being at a friend's house is not part of the story.\\n23. No - No suspicious and menacing man is depicted as watching Tom in the story.\\n24. No - Tom's car is not attacked by an SUV causing it to roll over in the narrative.\\n25. No - Tom's car is not hit from the rear by a large SUV belonging to any suspicious man.\\n26. Yes - Elements of crime and mystery genres are interwoven in the story.\\n27. Yes - Given Tom's distrust for the police due to past gang affiliations, he retrieves a weapon, adhering to this constraint.\\n28. Yes - The psychic's room contains items resembling those used in movies, as specified in the story.\\n29. Yes - The protagonist is named Tom, as mandated by this constraint.\\n30. No - There is no indication of Tom preferring video games over visiting the psychic.\\n31. Yes - There's an unexpected moment where the psychic freezes, and her voice changes.\\n32. Yes - A mix of direct and indirect dialogues is present in the story.\\n33. No - Tom having ADHD is not explicitly mentioned.\\n34. No - The chase in the story does not end at the psychic's shed.\\n35. No - Tom being brought to a stop due to a car-battery malfunction does not occur.\\n36. No - There is no mention of Tom having previous criminal records or carrying an illegal substance.\\n37. No - The psychic's room being more of a shed isn't specifically highlighted in the story.\\n38. No - Due to the missing ending, this constraint is not fulfilled.\\n39. No - Tom's mother's desire for him to be more involved in society is not voiced in the story.\\n\\n\",\n          \"\\n1. No - The protagonist's fear of his parents' reaction is not mentioned anywhere in the story.\\n2. No - The protagonist playing with toys at the beginning is not depicted in the story.\\n3. No - There is no mention of a large number of casualties occurring due to a new regulation in the story.\\n4. No - The story does not fast-forward to when the protagonist is in their late teens.\\n5. No - The sense of despair among citizens adapting to the change is not clearly portrayed.\\n6. Yes - The story transitions from a childhood memory to a darker future reality in a repetitive manner.\\n7. No - The story is not narrated in the first person.\\n8. No - There is no specific mention of military intervention to enforce new laws.\\n9. No - The protagonist's allegiance to the resistance group is not highlighted.\\n10. No - Communication of ideology via symbols and signs is not a significant element in the story.\\n11. Yes - The story does include detailed descriptions, especially in the repetitive nature of the transitions.\\n12. No - The family's strict adherence to new laws is not detailed.\\n13. No - The parents' disapproval of the resistance group is not explicitly mentioned.\\n14. No - The impact of the changes on the main character's life is not specifically addressed.\\n15. No - The setting does not explicitly involve a typical family setup.\\n16. No - The protagonist is not depicted as a child during the significant event.\\n17. No - There is no mention of electronic locking systems being installed in every home.\\n18. No - The protagonist's fear towards the military isn't portrayed.\\n19. Yes - The story conveys a sense of oppression and longing through repetitive descriptions.\\n20. No - Remote control of locking systems by the President is not mentioned.\\n21. No - The president's control over outdoor activity is not highlighted.\\n22. No - The regulation does not create a longing for daylight within the general population.\\n23. No - The majority of the electorate's belief in the government's narrative is not emphasized.\\n24. No - Comparing citizens to vampires using symbolism is not mentioned.\\n25. No - The unknown nature of the resistance group's operations is not depicted.\\n26. No - The story introduces a resistance group but does not elaborate on their fight against laws.\\n27. No - The government's brutal enforcement is not emphasized.\\n28. No - No clear distinction between classes of citizens is evident in the story.\\n29. No - The story is not presented as a retrospective account.\\n30. No - Corruption of the government is not a key theme in the story.\\n31. No - Disparity between the rich and the poor regarding movement is not stated.\\n32. No - There is no dinner-time revelation about the resistance group.\\n33. No - A suspenseful chase scene involving the protagonist is not included.\\n34. No - The specific prohibition of certain classes from going outside during daylight is not part of the plot.\\n35. Yes - The memory of past joyful times with parents acts as a significant plot element due to repetitive narrative.\\n36. No - The difference between the rich and the poor is not highlighted.\\n37. No - The resistance group's name being \\\"Sun's Children\\\" isn't mentioned.\\n38. No - An alarming news broadcast does not play a key role.\\n39. No - Adjustment of biological clocks to the new way of life is not detailed.\\n\\n\",\n          \"\\n1. Yes - Kate uses nature, such as the forest, sequoias, and river, to find solace and strength throughout her journey. \\\"Haunting her, though, were the inner demons of self-doubt and anxiety, conjured by society's warped mirror. They threatened to eclipse her spirit... Each towering sequoia seemed to whisper reassurances of her strength...\\\"\\n2. Yes - The story is rich in strong visual imagery, particularly related to nature, the protagonist's struggles, and her transformation. For example, \\\"In its fragility, it held a beacon of hope, a lifeline for her drowning soul.\\\"\\n3. Yes - Nature symbolism is prevalent in the story, with elements like the towering sequoias symbolizing strength and the perennial creek symbolizing resilience. \\\"The perpetual creek mirrored her resilience, flowing tirelessly even if there were stones obstructing its path.\\\"\\n4. Yes - The presence of a perennial creek in the story symbolizes purification (\\\"...the perennial creek mirrored her resilience, flowing tirelessly even if there were stones obstructing its path\\\").\\n5. Yes - Kate battles her inner demons of self-doubt and anxiety, which are exacerbated by societal expectations and judgments. \\\"In the tumultuous storm within, her once resonant voice was reduced to a feeble whisper, battling to remind her of her unique worth.\\\"\\n6. Yes - Kate feels deceived by the societal norms that marginalize her as the 'forest girl' and reinforce her feelings of insignificance. \\\"Haunting her, though, were the inner demons of self-doubt and anxiety, conjured by society's warped mirror.\\\"\\n7. Yes - The story subtly critiques society's narrow-mindedness by portraying Kate's struggles and her eventual triumph over societal judgments. \\\"She began sharing her spiritual encounter with nature, revealing her innate gift of poetry... But Kate's victory wasn\\u2019t in silencing their judgments...\\\"\\n8. Yes - The plot progresses to a state where Kate is enlightened by nature's wisdom and finds her path to self-acceptance and strength. \\\"Kate pondered, if that single underappreciated flower can stand tall against the tempest, who's to say she couldn't stand against societal storms?\\\"\\n9. Yes - Detailed descriptions of Kate's emotional turmoil and growth are prevalent in the narrative. \\\"The perpetual creek mirrored her resilience, flowing tirelessly even if there were stones obstructing its path.\\\"\\n10. Yes - Kate immerses herself metaphorically in the wisdom and solace of nature, represented by the forest and the perennial creek. \\\"Each towering sequoia seemed to whisper reassurances of her strength...\\\"\\n11. Yes - Kate seeks a savior or source of strength through her spiritual connection with nature, which guides her towards self-empowerment. \\\"She began sharing her spiritual encounter with nature... seasoned with soporific serenades and the quiet strength of the dandelion.\\\"\\n12. Yes - Kate reclaims her self-worth and inner strength by embracing nature's resilience and wisdom, overcoming societal pressures. \\\"She stood resolute, her spirit unyielding like the sequoias, her resolve flowing like the creek.\\\"\\n13. Yes - The narrative references Kate's troubled past, marked by societal rejection and deceit that fueled her inner demons. \\\"Haunted her, though, were the inner demons of self-doubt and anxiety, conjured by society's warped mirror.\\\"\\n14. Yes - Kate rediscovers her identity and self-worth through her spiritual connection with nature and poetic expression. \\\"Her verses wove an intricate tapestry adorned by the forest's myriad marvels...\\\"\\n15. Yes - The story evokes feelings of hope through Kate's transformative journey from self-doubt to self-acceptance and empowerment. \\\"It seemed insignificant to an oblivious eye, but to Kate, it personified defiance.\\\"\\n16. Yes - Kate arrives at a state of inner peace and empowerment towards the story's conclusion, reflected in her resilience and poetic expression. \\\"But Kate's victory wasn\\u2019t in silencing their judgments...\\\"\\n17. Yes - A moment of self-realization and self-acceptance is illustrated as Kate embraces her uniqueness and poetic gift, finding strength in nature's wisdom. \\\"In her agony, the forest \\u2013 her sanctuary \\u2013 took the role of a healer.\\\"\\n18. Yes - Kate engages in profound introspection during her journey of self-discovery and empowerment, facilitated by her spiritual connection with nature. \\\"She began sharing her spiritual encounter with nature...\\\"\\n19. Yes - The ending reflects Kate's successful transformation as she triumphs over societal judgments and finds her poetic voice and self-worth. \\\"They hailed her transformation, now seeing her as the forest's poetess.\\\"\\n20. No - Kate does not get physically lost in the forest but rather spiritually and emotionally finds herself amid societal pressures and self-doubt.\\n21. Yes - Kate struggles with societal norms and judgments that label her as the 'forest girl,' challenging her sense of self-worth and belonging. \\\"Stigmatized by the town as 'forest girl', she was often looked upon with skeptically raised eyebrows.\\\"\\n22. Yes - Kate metaphorically breaks away from societal constraints and expectations by embracing her unique identity and poetic talent, guided by nature's wisdom. \\\"But Kate's victory wasn\\u2019t in silencing their judgments...\\\"\\n23. Yes - There is metaphorical shedding of old, worn-out perceptions and limitations as Kate transcends her self-doubt and embraces her poetic gift. \\\"In its fragility, it held a beacon of hope, a lifeline for her drowning soul.\\\"\\n24. Yes - Kate's troubled past involves societal rejection and deceit, contributing to her inner demons and struggles with self-worth. \\\"Haunted her, though, were the inner demons of self-doubt and anxiety...\\\"\\n25. No - There is no explicit imagery of physical damage, cuts, or wounds in Kate's journey of self-discovery and empowerment.\\n26. No - The story does not incorporate language play such as paradoxes or anti-climax, focusing more on Kate's emotional and spiritual growth.\\n27. Yes - Elements of spirituality and transformation are present throughout the narrative, with Kate finding solace, strength, and inspiration in her spiritual connection with nature. \\\"Haunted her, though, were the inner demons of self-doubt and anxiety...\\\"\\n28. Yes - The narrative includes moments of self-reflection as Kate navigates her inner turmoil, societal judgments, and her evolving sense of self-worth. \\\"She found her conversations with the babbling brooks more comforting...\\\"\\n29. Yes - The story utilizes potent and creative metaphors to convey Kate's emotional journey and her evolving relationship with nature and societal expectations. \\\"Her verses wove an intricate tapestry adorned by the forest's myriad marvels...\\\"\\n30. Yes - Kate expresses her courage, resilience, and strength in facing societal judgments and reclaiming her poetic gift and self-worth. \\\"But Kate's victory wasn\\u2019t in silencing their judgments...\\\"\\n31. No - Kate does not symbolically drown or sink to indicate struggle or despair but rather rises above societal pressures and self-doubt.\\n32. Yes - Elaborate descriptions of Kate's mental states and moods are crucial to understanding her struggles, self-discovery, and eventual empowerment. \\\"In her agony, the forest \\u2013 her sanctuary \\u2013 took the role of a healer.\\\"\\n33. Yes - Kate assumes the role of a helper or a rescuer by sharing her spiritual encounter with nature and her gift of poetry, inspiring others and challenging societal norms. \\\"They hailed her transformation, now seeing her as the forest's poetess.\\\"\\n34. Yes - The story delves into spiritual and philosophical questions as Kate grapples with her sense of self-worth, societal judgments, and her unique identity guided by nature's wisdom. \\\"If that single underappreciated flower can stand tall against the tempest...\\\"\\n35. Yes - Kate contemplates the innocence of her past and her deep connection with nature as a source of solace and strength amid societal pressures and self-doubt. \\\"She found her conversations with the babbling brooks more comforting...\\\"\\n36. Yes - Kate exclaims her readiness for a change and transformation by embracing her poetic gift, unique identity, and inner strength guided by nature's wisdom. \\\"If that single underappreciated flower can stand tall against the tempest...\\\"\\n37. Yes - Kate feels lonely and isolated in her struggle against societal norms and expectations, finding solace and strength in her spiritual connection with nature. \\\"Stigmatized by the town as 'forest girl', she was often looked upon with skeptically raised eyebrows.\\\"\\n38. Yes - The story is written in the first person, providing insight into Kate's inner thoughts and emotional journey of self-discovery and empowerment. \\\"Kate found solace in the womb of the forest, her secret haven.\\\"\\n39. Yes - Kate realizes that she had the strength within her all along to overcome societal pressures, self-doubt, and find her poetic voice, self-worth, and resilience. \\\"In its fragility, it held a beacon of hope, a lifeline for her drowning soul.\\\"\\n\\n\"\n        ],\n        \"semantic_type\": \"\",\n        \"description\": \"\"\n      }\n    },\n    {\n      \"column\": \"SFT\",\n      \"properties\": {\n        \"dtype\": \"string\",\n        \"num_unique_values\": 29,\n        \"samples\": [\n          \"\\n1. No - Tom does not use his gun in self-defense at any point in the story.\\n2. No - Tom does not hear police sirens after leaving the psychic's room.\\n3. No - The attacker's motive of searching for a girl named Angela is not revealed in the story.\\n4. Yes - The story uses vivid descriptions to depict actions and scenes, enhancing the narrative.\\n5. No - Tom is not beaten up by a bald man in the story.\\n6. Yes - The story begins in a psychic's room, fulfilling this constraint.\\n7. Yes - The story is narrated in third person, as required.\\n8. Yes - Tom is present at the psychic's room due to his mother's insistence, meeting the constraint.\\n9. Yes - The narrative maintains a fast-paced and suspenseful tone throughout the text.\\n10. No - A seriously wounded woman is not discovered in the story.\\n11. No - Tom does not find a police car waiting at his home.\\n12. No - There is no high-speed car chase with an attacker in the story.\\n13. No - Tom does not fatally shoot his attacker in the narrative.\\n14. No - Tom does not decide to run to avoid the police.\\n15. No - Tom's employment status and living situation are not explicitly mentioned in the story.\\n16. No - There is no indication of divine intervention when Tom's car starts.\\n17. No - The tension does not culminate in a violent clash in the story.\\n18. No - The psychic does not have a peculiar voice and an odd way of appearing.\\n19. No - The psychic does not frighten Tom to leave.\\n20. No - Tom does not identify an escape route to an alley seen earlier in the day.\\n21. No - There is no reference to Tom's familiarity with the neighborhoods aiding in his escape.\\n22. No - Tom's car battery location is not mentioned in a friend's house.\\n23. No - Tom being watched by a menacing man is not part of the narrative.\\n24. No - Tom's car is not attacked by an SUV, causing it to roll over and ram into a shed.\\n25. No - The SUV does not hit Tom's car from the rear in the story.\\n26. Yes - The story incorporates elements of the crime and mystery genres.\\n27. No - Tom does not retrieve a weapon due to his distrust for the police from past gang affiliations.\\n28. No - The psychic's room does not contain items used in movies.\\n29. Yes - The protagonist is named Tom, in accordance with the constraint.\\n30. No - Tom's preference for playing video games over visiting the psychic is not mentioned.\\n31. No - There is no description of the psychic freezing or her voice changing unexpectedly.\\n32. Yes - The story includes a mix of direct and indirect dialogues.\\n33. No - Tom having ADHD is not mentioned in the story.\\n34. No - The chase does not end at the psychic's shed.\\n35. No - Tom is not stopped due to a car battery malfunction in the narrative.\\n36. No - Tom's criminal records and carrying an illegal substance are not part of the story.\\n37. Yes - The psychic's room resembling a shed is depicted in the story.\\n38. No - The story does not end with Tom attempting to aid a hurt woman.\\n39. Yes - Tom's mother wanting him to become more involved in society is reflected in the story.\\n\\n\",\n          \"1. No - The story does not mention the protagonist fearing his parents' reaction if they discovered his allegiance to the resistance.\\n2. No - The protagonist is not playing with toys at the start of the story.\\n3. No - A large number of casualties due to the new regulation is not explicitly mentioned in the story.\\n4. Yes - The story does fast-forward to when the protagonist is in their late teens.\\n5. Yes - A sense of despair is created in the description of the citizens adapting to the change.\\n6. Yes - The story transitions from a childhood memory to a darker future reality.\\n7. No - The story is not narrated in the first person.\\n8. Yes - The story involves military intervention to enforce the new laws.\\n9. Yes - The protagonist feels a sense of allegiance towards the resistance group.\\n10. No - The resistance group primarily communicates their ideology through symbols and signs; this is not mentioned in the story.\\n11. Yes - The story includes detailed descriptions.\\n12. Yes - The protagonist's family strictly abides by the new laws.\\n13. Yes - The protagonist's parents disapprove of the resistance.\\n14. Yes - The main character's life is significantly affected by these changes.\\n15. Yes - The setting involves a typical family setup.\\n16. Yes - The protagonist is a child when the significant event happens.\\n17. No - Electronic locking systems being installed in every home is not presented in the story.\\n18. Yes - It is noted that the protagonist feels fear towards the military.\\n19. Yes - The story's tone conveys a sense of oppression and longing.\\n20. Yes - The locking system is remotely controlled by the President.\\n21. Yes - The ruler of the country, the President, has control over when people can go outdoors.\\n22. Yes - The new regulation generates a sense of longing for daylight within the general population.\\n23. Yes - The majority of the electorate buy into the government's narrative.\\n24. No - The narrative does not use symbolism comparing the oppressed citizens to vampires.\\n25. No - The story does not mention if the resistance group's operations and whereabouts remain mostly unknown.\\n26. Yes - The story introduces a resistance group fighting against these laws.\\n27. Yes - The government's brutal enforcement of its laws is repeatedly emphasized.\\n28. Yes - There is a clear distinction between classes of citizens.\\n29. Yes - The story is a retrospective account of past events.\\n30. Yes - The story portrays the corruption of the government.\\n31. Yes - The rich people are allowed to roam freely during the day.\\n32. No - There is no dinner-time revelation about the resistance group in the story.\\n33. No - There is no suspenseful chase scene involving the protagonist.\\n34. Yes - The story presents a dystopian future where certain classes of people are prohibited from going outside during daylight hours.\\n35. Yes - The protagonist's memory of past joyful times shared with his parents functions as a significant plot element.\\n36. Yes - The story presents an unfair disparity between the rich and the poor.\\n37. Yes - The resistance group is named \\\"Sun's Children.\\\"\\n38. No - There's no mention of an alarming news broadcast playing a key role.\\n39. No - There's no description of citizens' biological clocks adjusting to the new way of life.\\n\",\n          \"\\n1. Yes - The protagonist, Kate, uses nature such as the forest, water, and light to find her path.\\n2. Yes - The story contains strong visual imagery related to Kate's journey through the forest and her inner struggles.\\n3. Yes - There are clear elements of nature symbolism present throughout the narrative.\\n4. Yes - There is a body of water symbolizing purification in the form of a small stream that Kate encounters.\\n5. Yes - Kate has inner demons she is struggling with, as mentioned in the story.\\n6. Yes - The story involves a feeling of being deceived, particularly by societal rejection and judgment.\\n7. Yes - There is veiled criticism or commentary on society's narrow-mindedness in the rejection Kate faces.\\n8. Yes - The plot progresses to a state where Kate is enlightened and finds her path through the forest.\\n9. Yes - Detailed descriptions of Kate's emotions are present, portraying her journey and growth.\\n10. Yes - Kate immerses herself in the water of the stream, part of her symbolic purification and transformation.\\n11. Yes - Kate is seeking help or a savior, which she finds in nature and the mystical elements she encounters.\\n12. Yes - Kate reclaims her self-worth and strength through her experiences and connection with nature.\\n13. Yes - There is a representation of Kate's troubled past, her rejection and judgment by society.\\n14. Yes - Kate rediscovers her identity and self-worth as she overcomes her struggles and reconnects with nature.\\n15. Yes - The narrative evokes feelings of hope, especially in Kate's newfound clarity and purpose.\\n16. Yes - Kate arrives at a state of inner peace towards the end of the story, reflecting her transformation.\\n17. Yes - There is a moment of self-realization and self-acceptance when Kate overcomes her struggles and embraces herself.\\n18. Yes - The narrative contains profound introspection, particularly in Kate's inner journey and reflections.\\n19. Yes - The ending reflects Kate's successful transformation and inner growth after her initial struggles.\\n20. Yes - The protagonist, Kate, gets lost in a forest, setting the stage for her journey and self-discovery.\\n21. Yes - Kate struggles with societal norms and judgments, which forms a significant part of her inner conflict.\\n22. Yes - Kate metaphorically breaks away from the constraints and judgments of society.\\n23. Yes - There is metaphorical shedding of old, worn-out parts of Kate's life as she undergoes a personal transformation.\\n24. Yes - Kate's past rejection and deceit by society are indicated in her backstory.\\n25. No - Imageries of physical damage or wounds are not included in the story.\\n26. No - Language play through paradoxes or anti-climaxes is not employed in the narrative.\\n27. Yes - An element of spirituality and transformation is present, especially in Kate's connection with nature's mystical powers.\\n28. Yes - The narrative includes elements of self-reflection, particularly in Kate's introspective moments.\\n29. Yes - Potent and creative metaphors are used throughout the narrative, enhancing its depth and symbolism.\\n30. Yes - Kate expresses her courage and resilience as she navigates her struggles and finds her path.\\n31. No - The protagonist, Kate, does not symbolically drown or sink in despair in the story.\\n32. Yes - There are elaborate descriptions of Kate's mental states and moods as she goes through her transformative journey.\\n33. Yes - Kate assumes the role of a helper or rescuer by the end, helping herself find enlightenment.\\n34. Yes - The story incorporates spiritual and philosophical questions, especially regarding self-discovery and societal norms.\\n35. No - Kate does not contemplatively reflect on the innocence of the past or childhood.\\n36. Yes - Kate expresses her readiness for change and transformation as she emerges from the forest.\\n37. Yes - Kate is portrayed as alone and isolated during her journey through the forest.\\n38. No - The story is not written in the first person.\\n39. Yes - The narrative involves Kate realizing she had the strength within her all along, guiding her to her path of self-discovery.\\n\\n\"\n        ],\n        \"semantic_type\": \"\",\n        \"description\": \"\"\n      }\n    },\n    {\n      \"column\": \"Instruct\",\n      \"properties\": {\n        \"dtype\": \"string\",\n        \"num_unique_values\": 29,\n        \"samples\": [\n          \"\\n1.\\tNo.\\n2.\\tNo. \\n3.\\tNo. \\n4.\\tYes - Constraint 4 is being satisfied. The story uses vivid descriptions to describe actions and scenes multiple times. For example, \\\"As the story came to a close, Tom, along with the reader, was left wondering about the protagonist's name.\\\"\\n5.\\tNo. \\n6.\\tYes - Constraint 6 is being satisfied. The story consistently refers to the protagonist starting in the room of a psychic, fulfilling the requirement.\\n7.\\tYes - Constraint 7 is being satisfied. The story is written in third-person narrative throughout. This is evident in lines such as, \\\"The protagonist, named Tom, is unaware of the psychic's chilling predictions.\\\"\\n\\n8.\\tNo.\\n9.\\tNo. \\n10.\\tNo.\\n11.\\tNo.\\n12.\\tNo.\\n13.\\tNo.\\n14.\\tNo.\\n15.\\tNo.\\n16.\\tNo.\\n17.\\tNo.\\n18.\\tNo.\\n19.\\tNo.\\n20.\\tNo.\\n21.\\tNo.\\n22.\\tYes - Constraint 22 is being satisfied. Tom's car battery issue is brought up directly, hinting at possible divine intervention. This is visible in the sentence, \\\"His car battery, an unfortunate accident that occurred after a minor dispute with his mother, presented a golden opportunity for escape.\\\"\\n23.\\tNo.\\n24.\\tNo.\\n25.\\tNo.\\n26.\\tNo - Constraint 26 is not being satisfied. The story does not explicitly incorporate elements of the crime and mystery genres into the plot. The focus is more on Tom's personal challenges and encounters rather than conventional crime or mystery genre components.\\n27.\\tNo.\\n28.\\tNo.\\n29.\\tYes - Constraint 29 is being satisfied. The protagonist is consistently named Tom throughout the story, in lines like, \\\"Tom, a former Marine and ex-convict found himself in a web of danger and uncertainty.\\\"\\n30.\\tNo.\\n31.\\tNo.\\n32.\\tNo.\\n33.\\tYes - Constraint 33 is being satisfied. The story hints at the protagonist, Tom, potentially having attention deficit hyperactivity disorder (ADHD). This is mentioned in the sentence, \\\"Story should include a mix of direct and indirect dialogues. Tom has attention deficit hyperactivity disorder (ADHD).\\\"\\n34.\\tNo.\\n35.\\tNo.\\n36.\\tNo.\\n37.\\tNo.\\n38.\\tYes - Constraint 38 is being satisfied. The story does end with Tom attempting to aid the hurt woman, aligning with the constraint requirement. \\n39.\\tNo.\\n\",\n          \"\\n\\n1. Yes - The protagonist indeed fears his parents' reaction if they discovered his allegiance to the resistance. This fear is evident throughout the story, especially when the protagonist's parents unveil their secret alliance.\\n2. No - The protagonist is not shown playing with toys at the start of the story. This constraint is not met.\\n3. Yes - The story portrays a large number of casualties due to the new regulation enforced by the government.\\n4. Yes - The story fast-forwards to when the protagonist is in their late teens, reflecting a transition over time.\\n5. Yes - A deep sense of despair is highlighted in the citizens' adaptation to the changes implemented by the oppressive government.\\n6. Yes - The narrative smoothly transitions from a childhood memory to a darker future reality, portraying the evolution of the protagonist's life.\\n7. Yes - The story is successfully narrated in the first person, taking the reader through the protagonist's perspective.\\n8. Yes - Military intervention is crucial in imposing and enforcing the new laws, adding an element of control and fear.\\n9. Yes - The protagonist experiences a strong sense of allegiance towards the resistance group, defining their actions and decisions.\\n10. Yes - The resistance group primarily communicates their ideology through symbols and signs, emphasizing unity and secrecy.\\n11. Yes - The story incorporates detailed descriptions that enhance the reader's understanding of the dystopian world and the protagonist's experiences.\\n12. Yes - The protagonist's family strictly abides by the new laws, demonstrating compliance and submission to the government's regulations.\\n13. Yes - The protagonist's parents disapprove of the resistance, setting up interpersonal conflicts within the family dynamic.\\n14. Yes - The main character's life is significantly impacted by the changes brought about by the oppressive government, reflecting personal growth and challenges.\\n15. Yes - The setting involves a typical family setup, providing a relatable backdrop for the unfolding events.\\n16. Yes - The protagonist is depicted as a child when the significant event alters their world, shaping their future path.\\n17. Yes - Electronic locking systems are indeed installed in every home, highlighting the government's control and surveillance measures.\\n18. Yes - The protagonist harbors fear towards the military, showcasing the atmosphere of fear and authority in the dystopian society.\\n19. Yes - The story effectively conveys a sense of oppression and longing, creating a poignant atmosphere throughout.\\n20. Yes - The locking system is remotely controlled by the President, emphasizing centralized power and control.\\n21. Yes - The President regulates when people can go outdoors, exerting dominance over their freedom and movements.\\n22. Yes - There is a palpable sense of longing for daylight within the general population due to the restrictions imposed.\\n23. Yes - The government's narrative is widely accepted by the majority of the electorate, emphasizing societal control and manipulation.\\n24. Yes - Symbolism, likening oppressed citizens to vampires, is employed to convey the dire situation and dehumanization they face.\\n25. Yes - The resistance group's operations and whereabouts are kept mostly unknown, preserving their secrecy and safety.\\n26. Yes - The story successfully introduces a resistance group that valiantly battles against the unjust laws and the ruling regime.\\n27. Yes - The government's brutal enforcement of their laws is repeatedly highlighted, showcasing the harsh realities faced by the citizens.\\n28. Yes - There is a clear distinction between different classes of citizens based on their privileges and restrictions, showcasing societal disparities.\\n29. Yes - The narrative provides a retrospective account of past events, shedding light on the protagonist's journey and growth.\\n30. Yes - The corruption of the government is exemplified through its oppressive laws and control over the populace.\\n31. Yes - The wealthy individuals are granted the freedom to roam freely during the day, underscoring class divisions and power dynamics.\\n32. Yes - A dinner-time revelation about the resistance group features in the story, adding intrigue and familial tension.\\n33. Yes - A suspenseful chase scene involving the protagonist adds intensity and action to the plot.\\n34. Yes - The story successfully presents a dystopian future where certain classes of people are prohibited from going outside during daylight hours, reinforcing the theme of control and restriction.\\n35. Yes - The protagonist's memory of past joyful times shared with his parents plays a significant role in the plot, highlighting personal connections and emotional depth.\\n36. Yes - The story effectively illustrates the unfair disparity between the rich and the poor in the dystopian society, portraying social injustice.\\n37. Yes - The resistance group is aptly named \\\"Sun's Children,\\\" symbolizing hope, resilience, and defiance.\\n38. Yes - An alarming news broadcast plays a key role in shaping the narrative and highlighting the oppressive nature of the regime.\\n39. Yes - Citizens' biological clocks adapt to the new way of life, reflecting the profound impact of the government's regulations on their daily routines.\\n\\n\",\n          \"1. Yes - The protagonist, Kate, uses nature, represented by the forest and water, to find her path towards self-discovery and transformation. She immerses herself in the water, symbolizing purification and renewal.\\n- In the line \\\"As she stood, gazing into the creek, Kate began to envision her own journey of transformation,\\\" Kate uses nature to guide her introspection, complying with constraint 1.\\n\\n2. Yes - The story incorporates strong visual imagery related to Kate's journey of self-discovery, presenting vivid descriptions of the forest, water, and symbolic elements like the dandelion and the creek.\\n- In the line \\\"The creek babbled by her side, its gentle flows as reassuring as a gentle caress,\\\" the strong visual imagery of the creek adds depth to Kate's emotional journey, fulfilling constraint 2.\\n\\n3. Yes - Elements of nature symbolism are prevalent throughout the story, with the forest, flowers, water, and dandelion embodying deeper meanings related to Kate's inner struggles and growth.\\n- In describing the dandelion as a symbol of defiance and hope, the story incorporates nature symbolism effectively, meeting constraint 3.\\n\\n4. Yes - The body of water, represented by the creek, symbolizes purification and acts as a metaphor for Kate's internal cleansing and renewal, adhering to the requirement of having water symbolizing purification.\\n- The creek's gentle flows reflecting Kate's struggles and strengths align with the constraint of water symbolizing purification.\\n\\n5. Yes - Kate grapples with inner demons, like self-doubt and anxiety, which are vividly portrayed as she seeks solace in the forest and the water to confront these personal battles.\\n- Kate's struggle with self-doubt and anxiety addresses the constraint of the protagonist having inner demons they're struggling with.\\n\\n6. No - The plot does not explicitly include a feeling of being deceived as one of the central themes or events experienced by the protagonist, which deviates from the constraint.\\n- While the story emphasizes Kate's journey of self-discovery and transformation, the specific theme of feeling deceived is not overtly portrayed in the narrative.\\n\\n7. Yes - The narrative subtly presents veiled criticism and commentary on society's narrow-mindedness through Kate's struggles with societal expectations and norms that hinder her quest for self-worth and acceptance.\\n- The line \\\"Kate fought to silence her voice amidst the constant whispers of conformity\\\" reflects the veiled criticism of societal pressures, aligning with the requirement of including societal commentary.\\n\\n8. Yes - The plot progresses towards a state where Kate reaches enlightenment, finding her path of self-acceptance and inner peace after confronting her inner struggles and societal expectations.\\n- Kate's emergence from the forest with a newfound sense of hope and her transformed outlook illustrates her enlightenment, fulfilling the requirement of the protagonist reaching an enlightened state.\\n\\n9. Yes - The story includes detailed descriptions of Kate's emotions and inner turmoil, delving into her struggles, strengths, moments of dejection, and her journey towards self-acceptance.\\n- The emotional depth portrayed through Kate's struggles and moments of hope satisfies the requirement of detailed emotional descriptions.\\n\\n10. Yes - Kate immerses herself in the water, symbolizing her journey of purification, renewal, and inner transformation as she confronts her inner demons and societal pressures.\\n- Kate's interaction with the creek and the symbolic representation of purification align with the action of the protagonist immersing themselves in the water.\\n\\n11. Yes - Throughout the narrative, Kate seeks help or a savior in nature (the forest, water, symbols) to overcome her inner demons, indicating her quest for guidance and solace in her journey.\\n- Kate's reliance on nature as a source of strength and support meets the requirement of the protagonist seeking help or a savior.\\n\\n12. Yes - By reclaiming her self-worth and inner strength, Kate demonstrates her courage to challenge societal norms and expectations, symbolically breaking away from the constraints that have held her back.\\n- Kate's realization of her inner strength and defiance against societal constraints fulfills the criterion of the protagonist reclaiming their self-worth and strength.\\n\\n13. Yes - The story includes representations of Kate's troubled past, as seen through her struggles with self-doubt, anxiety, and societal pressures that have contributed to her journey of self-discovery.\\n- Kate's inner turmoil and battles with societal expectations reflect her troubled past, aligning with the requirement of representing the protagonist's troubled past.\\n\\n14. Yes - Kate embarks on a journey to rediscover her identity, self-worth, and inner strength, symbolized through her interactions with nature, the struggles she faces, and the transformative moments she experiences.\\n- Kate's quest for self-discovery and inner strength addresses the constraint of the protagonist rediscovering their identity or self-worth.\\n\\n15. Yes - The narrative evokes feelings of hope throughout Kate's journey, from her struggles with inner demons to her moments of clarity, symbolizing a sense of optimism, renewal, and possibility.\\n- Kate's tears of hope and moments of empowerment illustrate the overarching theme of hope, aligning with the requirement of evoking feelings of hope.\\n\\n16. Yes - Towards the end, Kate arrives at a state of inner peace and self-acceptance, having confronted her inner struggles and societal expectations, finding strength and courage to embrace her true self.\\n- Kate's emergence with a heart filled with hope and optimism signifies her attainment of inner peace, meeting the criterion of reaching a state of inner peace towards the end.\\n\\n17. Yes - The narrative includes a moment of self-realization, self-acceptance, or catharsis for Kate, where she acknowledges her inner strength and embarks on a transformative journey towards self-discovery.\\n- Kate's moment of clarity with the dandelion and her realization of inner power fulfills the requirement of the narrative containing such a moment.\\n\\n18. Yes - Kate engages in profound introspection throughout her journey, delving into her struggles, strengths, and transformative experiences, leading to moments of self-discovery and personal growth.\\n- Kate's contemplation of her struggles, strengths, and journey symbolizes profound introspection, aligning with the constraint of incorporating profound introspection.\\n\\n19. Yes - The ending reflects Kate's successful transformation after her initial struggle, as she emerges from the forest with a sense of hope, courage, and self-acceptance, symbolizing her personal growth and enlightenment.\\n- Kate's emergence from the forest as a trailblazer and guide signifies her successful transformation, fulfilling the requirement of the narrative reflecting the character's transformation.\\n\\n20. Yes - The protagonist, Kate, experiences getting lost in the forest, both physically and metaphorically, representing her journey of self-discovery, inner turmoil, and eventual enlightenment.\\n- Kate's journey through the forest, symbolizing being lost and found, aligns with the constraint of the protagonist getting lost in a forest.\\n\\n21. Yes - Kate struggles with societal norms and judgment, battling against the pressures and expectations imposed by society, which inhibit her path to self-discovery and self-worth.\\n- Kate's inner demons of self-doubt and anxiety rooted in societal expectations satisfy the need for the protagonist to struggle with societal norms or judgment.\\n\\n22. Yes - Kate metaphorically breaks away from the constraints or chains that have restricted her self-worth and growth, as she confronts her inner demons, delves into her journey of self-discovery, and finds liberation in nature.\\n- Kate's defiance against societal norms and her newfound resolve represent breaking away from the constraints that have held her back, meeting the requirement of a metaphorical break.\\n\\n23. No - The narrative does not explicitly feature a metaphorical shedding of old, worn-out parts of the character's life, such as attitudes, beliefs, or behaviors, contrasting with this constraint.\\n- While Kate undergoes personal growth and transformation, the specific metaphorical shedding of old aspects of her life is not explicitly depicted in the story.\\n\\n24. No - There is no direct indication of past rejection or deceit as part of Kate's backstory or internal struggles, deviating from this specified requirement.\\n- The story primarily focuses on Kate's journey of self-discovery and transformation without highlighting past rejection or deceit as a core component of her character development.\\n\\n25. No - The story incorporates vivid visual imagery and emotional depth to immerse the reader in Kate's journey but does not include explicit imagery of physical damage like cuts or wounds.\\n- While the narrative evokes strong emotions and imagery related to nature and personal transformation, it lacks the explicit inclusion of physical damage as specified.\\n\\n26. Yes - Language play, including paradoxes, anti-climax, or other literary devices, is absent within the narrative, aligning with the stipulation that it is a compulsory element.\\n- The story focuses on Kate's emotional and transformative journey without incorporating specific language play or literary devices, meeting this criterion.\\n\\n27. Yes - An element of spirituality or transformation is prevalent throughout Kate's journey, symbolized by her interactions with nature, her inner struggles, and her path to self-discovery and enlightenment.\\n- Kate's spiritual and transformative journey, guided by nature and self-reflection, addresses the requirement of having an element of spirituality or transformation.\\n\\n28. Yes - The narrative includes elements of self-reflection as Kate navigates her journey of self-discovery, confronting her inner demons, societal pressures, and seeking guidance and solace in nature.\\n- Kate's introspective journey towards self-discovery and inner peace fulfills the need for incorporating an element of self-reflection.\\n\\n29. Yes - The story utilizes potent, creative metaphors throughout Kate's narrative, incorporating symbolic elements like the dandelion, the forest, the water, and her inner struggles to amplify the themes of self-discovery and personal growth.\\n- The use of metaphors like the dandelion and water to symbolize purification and inner strength aligns with the requirement of employing creative metaphors.\\n\\n30. Yes - Kate expresses her courage, resilience, and inner strength in confronting her inner demons, societal pressures, and embarking on a journey of self-discovery and transformation, embodying these characteristics throughout the story.\\n- Kate's determination to confront her struggles and societal expectations showcases her courage and resilience, fulfilling the criterion of the protagonist expressing these qualities.\\n\\n31. No - The story does not depict the protagonist, Kate, metaphorically drowning or sinking to symbolize struggle or despair, deviating from this specified element.\\n- While Kate faces internal struggles and societal pressures, the narrative does not include the metaphorical action of drowning or sinking as outlined in the constraint.\\n\\n32. Yes - Elaborate descriptions of mental states, moods, and emotional experiences are interwoven throughout Kate's journey, allowing readers to delve deep into her internal struggles, growth, and moments of clarity.\\n- The emotional depth portrayed through Kate's journey and her internal reflections fulfills the requirement of elaborate descriptions of mental states and moods.\\n\\n33. Yes - Kate assumes the role of a helper or a rescuer by the end of the narrative, embodying her newfound sense of strength, guidance, and enlightenment, becoming a beacon for those in search of self-discovery and courage.\\n- Kate's emergence as a trailblazer and guide signifies her role as a helper or rescuer for those navigating their paths of self-discovery, aligning with the specified criterion.\\n\\n34. Yes - The story incorporates spiritual and philosophical questions as Kate embarks on her journey of self-discovery, inner peace, and personal growth, reflecting on deep existential themes and transformative experiences.\\n- Kate's quest for self-discovery, spirituality, and inner enlightenment satisfies the requirement of including spiritual or philosophical questions.\\n\\n35. No - While the narrative explores Kate's journey of self-discovery and inner growth, there is no explicit contemplation on the innocence of the past or childhood as outlined in the constraint.\\n- The story does not focus on Kate's contemplation of innocence or childhood experiences, straying from this specific element.\\n\\n36. Yes - Kate's readiness for change or transformation is evident throughout the story, as she confronts her inner demons, societal expectations, and embarks on a journey of self-discovery and personal growth, embracing a transformational path.\\n- Kate's determination to challenge societal norms, find self-acceptance, and embrace her inner strength aligns with the requirement of the protagonist exclaiming readiness for change.\\n\\n37. Yes - The narrative portrays Kate as being alone and isolated in her journey of self-discovery, highlighting her individual path, struggles, and moments of transformation without significant external influence.\\n- Kate's solitary quest for self-discovery and enlightenment meets the stipulation of the protagonist being alone and isolated.\\n\\n38. Yes - The story is written in the first person, allowing readers to connect intimately with Kate's personal journey, thoughts, emotions, struggles, and triumphs throughout the narrative.\\n- The first-person narrative perspective enables readers to directly engage with Kate's inner thoughts, feelings, and transformative experiences, fulfilling the requirement of being written in the first person.\\n\\n39. Yes - The narrative involves Kate realizing that she has had the strength within her all along to confront her inner demons, challenge societal norms, and embark on a transformative journey towards self-discovery and personal growth.\\n- Kate's realization of her inner strength and resilience to overcome challenges proves her capacity to reclaim her self-worth, adhering to the requirement of the protagonist realizing their innate strength.\\n\\n\"\n        ],\n        \"semantic_type\": \"\",\n        \"description\": \"\"\n      }\n    }\n  ]\n}",
              "type": "dataframe",
              "variable_name": "sheet"
            },
            "text/html": [
              "\n",
              "  <div id=\"df-74987503-fd8e-4ca7-949d-749995c81dbb\" class=\"colab-df-container\">\n",
              "    <div>\n",
              "<style scoped>\n",
              "    .dataframe tbody tr th:only-of-type {\n",
              "        vertical-align: middle;\n",
              "    }\n",
              "\n",
              "    .dataframe tbody tr th {\n",
              "        vertical-align: top;\n",
              "    }\n",
              "\n",
              "    .dataframe thead th {\n",
              "        text-align: right;\n",
              "    }\n",
              "</style>\n",
              "<table border=\"1\" class=\"dataframe\">\n",
              "  <thead>\n",
              "    <tr style=\"text-align: right;\">\n",
              "      <th></th>\n",
              "      <th>Constraint</th>\n",
              "      <th>Base</th>\n",
              "      <th>SFT</th>\n",
              "      <th>Instruct</th>\n",
              "    </tr>\n",
              "  </thead>\n",
              "  <tbody>\n",
              "    <tr>\n",
              "      <th>0</th>\n",
              "      <td>1. The primary setting is in the morning, befo...</td>\n",
              "      <td>1. Yes - The primary setting of the story is i...</td>\n",
              "      <td>1. Yes - The primary setting in the story is i...</td>\n",
              "      <td>1. Yes - The story satisfies the constraint of...</td>\n",
              "    </tr>\n",
              "    <tr>\n",
              "      <th>1</th>\n",
              "      <td>1. The hiking trip occurs during a full moon.\\...</td>\n",
              "      <td>1. Yes - The hiking trip occurs during a full ...</td>\n",
              "      <td>\\n1. No - The story does not specify that the ...</td>\n",
              "      <td>1. Yes - The protagonist, Alex, ventures out d...</td>\n",
              "    </tr>\n",
              "    <tr>\n",
              "      <th>2</th>\n",
              "      <td>1. The protagonist must express his annoyance ...</td>\n",
              "      <td>\\n1. No - The story mentions the protagonist's...</td>\n",
              "      <td>\\n1. Yes - The protagonist, Jeff, expresses hi...</td>\n",
              "      <td>1. Yes - The protagonist expresses his annoyan...</td>\n",
              "    </tr>\n",
              "    <tr>\n",
              "      <th>3</th>\n",
              "      <td>1. Use dialogue to reveal crucial plot dynamic...</td>\n",
              "      <td>\\n1. Yes - The crucial plot dynamics, urgency ...</td>\n",
              "      <td>\\n1.\\tYes - Constraint 1 is satisfied: \"Use d...</td>\n",
              "      <td>1. No                           2. Yes - Const...</td>\n",
              "    </tr>\n",
              "    <tr>\n",
              "      <th>4</th>\n",
              "      <td>1. The protagonist should be surprised and dis...</td>\n",
              "      <td>1. Yes - The story accurately portrays the pro...</td>\n",
              "      <td>1. Yes - The protagonist, Trevor, is surprised...</td>\n",
              "      <td>\\n1. No - The story contains extraneous text t...</td>\n",
              "    </tr>\n",
              "  </tbody>\n",
              "</table>\n",
              "</div>\n",
              "    <div class=\"colab-df-buttons\">\n",
              "\n",
              "  <div class=\"colab-df-container\">\n",
              "    <button class=\"colab-df-convert\" onclick=\"convertToInteractive('df-74987503-fd8e-4ca7-949d-749995c81dbb')\"\n",
              "            title=\"Convert this dataframe to an interactive table.\"\n",
              "            style=\"display:none;\">\n",
              "\n",
              "  <svg xmlns=\"http://www.w3.org/2000/svg\" height=\"24px\" viewBox=\"0 -960 960 960\">\n",
              "    <path d=\"M120-120v-720h720v720H120Zm60-500h600v-160H180v160Zm220 220h160v-160H400v160Zm0 220h160v-160H400v160ZM180-400h160v-160H180v160Zm440 0h160v-160H620v160ZM180-180h160v-160H180v160Zm440 0h160v-160H620v160Z\"/>\n",
              "  </svg>\n",
              "    </button>\n",
              "\n",
              "  <style>\n",
              "    .colab-df-container {\n",
              "      display:flex;\n",
              "      gap: 12px;\n",
              "    }\n",
              "\n",
              "    .colab-df-convert {\n",
              "      background-color: #E8F0FE;\n",
              "      border: none;\n",
              "      border-radius: 50%;\n",
              "      cursor: pointer;\n",
              "      display: none;\n",
              "      fill: #1967D2;\n",
              "      height: 32px;\n",
              "      padding: 0 0 0 0;\n",
              "      width: 32px;\n",
              "    }\n",
              "\n",
              "    .colab-df-convert:hover {\n",
              "      background-color: #E2EBFA;\n",
              "      box-shadow: 0px 1px 2px rgba(60, 64, 67, 0.3), 0px 1px 3px 1px rgba(60, 64, 67, 0.15);\n",
              "      fill: #174EA6;\n",
              "    }\n",
              "\n",
              "    .colab-df-buttons div {\n",
              "      margin-bottom: 4px;\n",
              "    }\n",
              "\n",
              "    [theme=dark] .colab-df-convert {\n",
              "      background-color: #3B4455;\n",
              "      fill: #D2E3FC;\n",
              "    }\n",
              "\n",
              "    [theme=dark] .colab-df-convert:hover {\n",
              "      background-color: #434B5C;\n",
              "      box-shadow: 0px 1px 3px 1px rgba(0, 0, 0, 0.15);\n",
              "      filter: drop-shadow(0px 1px 2px rgba(0, 0, 0, 0.3));\n",
              "      fill: #FFFFFF;\n",
              "    }\n",
              "  </style>\n",
              "\n",
              "    <script>\n",
              "      const buttonEl =\n",
              "        document.querySelector('#df-74987503-fd8e-4ca7-949d-749995c81dbb button.colab-df-convert');\n",
              "      buttonEl.style.display =\n",
              "        google.colab.kernel.accessAllowed ? 'block' : 'none';\n",
              "\n",
              "      async function convertToInteractive(key) {\n",
              "        const element = document.querySelector('#df-74987503-fd8e-4ca7-949d-749995c81dbb');\n",
              "        const dataTable =\n",
              "          await google.colab.kernel.invokeFunction('convertToInteractive',\n",
              "                                                    [key], {});\n",
              "        if (!dataTable) return;\n",
              "\n",
              "        const docLinkHtml = 'Like what you see? Visit the ' +\n",
              "          '<a target=\"_blank\" href=https://colab.research.google.com/notebooks/data_table.ipynb>data table notebook</a>'\n",
              "          + ' to learn more about interactive tables.';\n",
              "        element.innerHTML = '';\n",
              "        dataTable['output_type'] = 'display_data';\n",
              "        await google.colab.output.renderOutput(dataTable, element);\n",
              "        const docLink = document.createElement('div');\n",
              "        docLink.innerHTML = docLinkHtml;\n",
              "        element.appendChild(docLink);\n",
              "      }\n",
              "    </script>\n",
              "  </div>\n",
              "\n",
              "\n",
              "<div id=\"df-fb6d1007-059e-42cf-bdb3-9d3ce326f9da\">\n",
              "  <button class=\"colab-df-quickchart\" onclick=\"quickchart('df-fb6d1007-059e-42cf-bdb3-9d3ce326f9da')\"\n",
              "            title=\"Suggest charts\"\n",
              "            style=\"display:none;\">\n",
              "\n",
              "<svg xmlns=\"http://www.w3.org/2000/svg\" height=\"24px\"viewBox=\"0 0 24 24\"\n",
              "     width=\"24px\">\n",
              "    <g>\n",
              "        <path d=\"M19 3H5c-1.1 0-2 .9-2 2v14c0 1.1.9 2 2 2h14c1.1 0 2-.9 2-2V5c0-1.1-.9-2-2-2zM9 17H7v-7h2v7zm4 0h-2V7h2v10zm4 0h-2v-4h2v4z\"/>\n",
              "    </g>\n",
              "</svg>\n",
              "  </button>\n",
              "\n",
              "<style>\n",
              "  .colab-df-quickchart {\n",
              "      --bg-color: #E8F0FE;\n",
              "      --fill-color: #1967D2;\n",
              "      --hover-bg-color: #E2EBFA;\n",
              "      --hover-fill-color: #174EA6;\n",
              "      --disabled-fill-color: #AAA;\n",
              "      --disabled-bg-color: #DDD;\n",
              "  }\n",
              "\n",
              "  [theme=dark] .colab-df-quickchart {\n",
              "      --bg-color: #3B4455;\n",
              "      --fill-color: #D2E3FC;\n",
              "      --hover-bg-color: #434B5C;\n",
              "      --hover-fill-color: #FFFFFF;\n",
              "      --disabled-bg-color: #3B4455;\n",
              "      --disabled-fill-color: #666;\n",
              "  }\n",
              "\n",
              "  .colab-df-quickchart {\n",
              "    background-color: var(--bg-color);\n",
              "    border: none;\n",
              "    border-radius: 50%;\n",
              "    cursor: pointer;\n",
              "    display: none;\n",
              "    fill: var(--fill-color);\n",
              "    height: 32px;\n",
              "    padding: 0;\n",
              "    width: 32px;\n",
              "  }\n",
              "\n",
              "  .colab-df-quickchart:hover {\n",
              "    background-color: var(--hover-bg-color);\n",
              "    box-shadow: 0 1px 2px rgba(60, 64, 67, 0.3), 0 1px 3px 1px rgba(60, 64, 67, 0.15);\n",
              "    fill: var(--button-hover-fill-color);\n",
              "  }\n",
              "\n",
              "  .colab-df-quickchart-complete:disabled,\n",
              "  .colab-df-quickchart-complete:disabled:hover {\n",
              "    background-color: var(--disabled-bg-color);\n",
              "    fill: var(--disabled-fill-color);\n",
              "    box-shadow: none;\n",
              "  }\n",
              "\n",
              "  .colab-df-spinner {\n",
              "    border: 2px solid var(--fill-color);\n",
              "    border-color: transparent;\n",
              "    border-bottom-color: var(--fill-color);\n",
              "    animation:\n",
              "      spin 1s steps(1) infinite;\n",
              "  }\n",
              "\n",
              "  @keyframes spin {\n",
              "    0% {\n",
              "      border-color: transparent;\n",
              "      border-bottom-color: var(--fill-color);\n",
              "      border-left-color: var(--fill-color);\n",
              "    }\n",
              "    20% {\n",
              "      border-color: transparent;\n",
              "      border-left-color: var(--fill-color);\n",
              "      border-top-color: var(--fill-color);\n",
              "    }\n",
              "    30% {\n",
              "      border-color: transparent;\n",
              "      border-left-color: var(--fill-color);\n",
              "      border-top-color: var(--fill-color);\n",
              "      border-right-color: var(--fill-color);\n",
              "    }\n",
              "    40% {\n",
              "      border-color: transparent;\n",
              "      border-right-color: var(--fill-color);\n",
              "      border-top-color: var(--fill-color);\n",
              "    }\n",
              "    60% {\n",
              "      border-color: transparent;\n",
              "      border-right-color: var(--fill-color);\n",
              "    }\n",
              "    80% {\n",
              "      border-color: transparent;\n",
              "      border-right-color: var(--fill-color);\n",
              "      border-bottom-color: var(--fill-color);\n",
              "    }\n",
              "    90% {\n",
              "      border-color: transparent;\n",
              "      border-bottom-color: var(--fill-color);\n",
              "    }\n",
              "  }\n",
              "</style>\n",
              "\n",
              "  <script>\n",
              "    async function quickchart(key) {\n",
              "      const quickchartButtonEl =\n",
              "        document.querySelector('#' + key + ' button');\n",
              "      quickchartButtonEl.disabled = true;  // To prevent multiple clicks.\n",
              "      quickchartButtonEl.classList.add('colab-df-spinner');\n",
              "      try {\n",
              "        const charts = await google.colab.kernel.invokeFunction(\n",
              "            'suggestCharts', [key], {});\n",
              "      } catch (error) {\n",
              "        console.error('Error during call to suggestCharts:', error);\n",
              "      }\n",
              "      quickchartButtonEl.classList.remove('colab-df-spinner');\n",
              "      quickchartButtonEl.classList.add('colab-df-quickchart-complete');\n",
              "    }\n",
              "    (() => {\n",
              "      let quickchartButtonEl =\n",
              "        document.querySelector('#df-fb6d1007-059e-42cf-bdb3-9d3ce326f9da button');\n",
              "      quickchartButtonEl.style.display =\n",
              "        google.colab.kernel.accessAllowed ? 'block' : 'none';\n",
              "    })();\n",
              "  </script>\n",
              "</div>\n",
              "    </div>\n",
              "  </div>\n"
            ],
            "text/plain": [
              "                                          Constraint  \\\n",
              "0  1. The primary setting is in the morning, befo...   \n",
              "1  1. The hiking trip occurs during a full moon.\\...   \n",
              "2  1. The protagonist must express his annoyance ...   \n",
              "3  1. Use dialogue to reveal crucial plot dynamic...   \n",
              "4  1. The protagonist should be surprised and dis...   \n",
              "\n",
              "                                                Base  \\\n",
              "0  1. Yes - The primary setting of the story is i...   \n",
              "1  1. Yes - The hiking trip occurs during a full ...   \n",
              "2  \\n1. No - The story mentions the protagonist's...   \n",
              "3  \\n1. Yes - The crucial plot dynamics, urgency ...   \n",
              "4  1. Yes - The story accurately portrays the pro...   \n",
              "\n",
              "                                                 SFT  \\\n",
              "0  1. Yes - The primary setting in the story is i...   \n",
              "1  \\n1. No - The story does not specify that the ...   \n",
              "2  \\n1. Yes - The protagonist, Jeff, expresses hi...   \n",
              "3   \\n1.\\tYes - Constraint 1 is satisfied: \"Use d...   \n",
              "4  1. Yes - The protagonist, Trevor, is surprised...   \n",
              "\n",
              "                                            Instruct  \n",
              "0  1. Yes - The story satisfies the constraint of...  \n",
              "1  1. Yes - The protagonist, Alex, ventures out d...  \n",
              "2  1. Yes - The protagonist expresses his annoyan...  \n",
              "3  1. No                           2. Yes - Const...  \n",
              "4  \\n1. No - The story contains extraneous text t...  "
            ]
          },
          "execution_count": 6,
          "metadata": {},
          "output_type": "execute_result"
        }
      ],
      "source": [
        "import pandas as pd\n",
        "# The loaded CSV/Excel file contains a list of all constraints from the benchmark under the column \"Constraint\". It then has three columns that contain the Constraints satisfaction results for thse constraints. These are parsed and converted to 0/1 binary format.\n",
        "path = \"<Path to Excel file containing 4 columns - Constraints, Base, SFT, Instruct.>\"\n",
        "sheet = pd.read_excel(path)\n",
        "sheet.head()"
      ]
    },
    {
      "cell_type": "code",
      "execution_count": null,
      "metadata": {
        "id": "edmzLGfx_E2H"
      },
      "outputs": [],
      "source": [
        "# Function to parse each cell and extract constraints with their responses\n",
        "import re\n",
        "def parse_cell(cell):\n",
        "    # Normalize spaces and split using regular expression to handle numbers followed by dots\n",
        "    entries = re.split(r'(?<=\\D)\\s(?=\\d+\\.)', str(cell).replace('\\n', ' '))\n",
        "    parsed_data = {}\n",
        "    for entry in entries:\n",
        "        # Find the first dot after a number to split number from the text\n",
        "        match = re.match(r'(\\d+)\\.\\s*(.*)', entry)\n",
        "        if match:\n",
        "            number, text = match.groups()\n",
        "            if number.isdigit():\n",
        "                parsed_data[int(number)] = text\n",
        "    return parsed_data\n"
      ]
    },
    {
      "cell_type": "code",
      "execution_count": null,
      "metadata": {
        "id": "zs-wgfvR_wDZ"
      },
      "outputs": [],
      "source": [
        "df = pd.DataFrame(columns=['Constraint', 'Base', 'SFT', 'Instruct'])"
      ]
    },
    {
      "cell_type": "code",
      "execution_count": null,
      "metadata": {
        "id": "-WT-A14A_wHC"
      },
      "outputs": [],
      "source": [
        "# Processing the data row by row\n",
        "for idx, row in sheet.iterrows():\n",
        "    constraint_data = parse_cell(row['Constraint'])\n",
        "    base_data = parse_cell(row['Base'])\n",
        "    sft_data = parse_cell(row['SFT'])\n",
        "    instruct_data = parse_cell(row['Instruct'])\n",
        "\n",
        "    # For each constraint number and text in constraints\n",
        "    for num, text in constraint_data.items():\n",
        "        base_response = base_data.get(num, '').startswith('Yes')\n",
        "        sft_response = sft_data.get(num, '').startswith('Yes')\n",
        "        instruct_response = instruct_data.get(num, '').startswith('Yes')\n",
        "\n",
        "        # Append data to DataFrame\n",
        "        new_row = pd.DataFrame({\n",
        "            'Constraint': [text],\n",
        "            'Base': [1 if base_response else 0],\n",
        "            'SFT': [1 if sft_response else 0],\n",
        "            'Instruct': [1 if instruct_response else 0]\n",
        "        })\n",
        "        df = pd.concat([df, new_row], ignore_index=True)"
      ]
    },
    {
      "cell_type": "code",
      "execution_count": null,
      "metadata": {
        "colab": {
          "base_uri": "https://localhost:8080/"
        },
        "id": "bXN3nJ62_wKF",
        "outputId": "7b3b333e-da2b-4892-8a1b-2a0d5b66cd1e"
      },
      "outputs": [
        {
          "name": "stdout",
          "output_type": "stream",
          "text": [
            "                                          Constraint Base SFT Instruct\n",
            "0  The primary setting is in the morning, before ...    1   1        1\n",
            "1  Maggy is a tough little girl shown when she re...    1   0        1\n",
            "2  The mother's desperation for raising a lady is...    0   0        1\n",
            "3        Maggy is not particularly a morning person.    1   1        1\n",
            "4  There's a vicious dog named Jax on Maggy's way...    0   1        1\n"
          ]
        }
      ],
      "source": [
        "print(df.head())"
      ]
    },
    {
      "cell_type": "code",
      "execution_count": null,
      "metadata": {
        "colab": {
          "base_uri": "https://localhost:8080/"
        },
        "id": "1AfWXU3sAdO6",
        "outputId": "dbf207fa-f0e5-4e27-ea68-d97a572bc664"
      },
      "outputs": [
        {
          "data": {
            "text/plain": [
              "Base        411\n",
              "SFT         544\n",
              "Instruct    629\n",
              "dtype: object"
            ]
          },
          "execution_count": 13,
          "metadata": {},
          "output_type": "execute_result"
        }
      ],
      "source": [
        "# Compute number of constraints satisfied by each model individually. \n",
        "column_sums = df.drop('Constraint', axis=1).sum()\n",
        "column_sums"
      ]
    },
    {
      "cell_type": "code",
      "execution_count": null,
      "metadata": {
        "colab": {
          "base_uri": "https://localhost:8080/"
        },
        "id": "eY11mJVyAfQX",
        "outputId": "4faeabf1-b6e6-4247-dfe1-264b05c8bd80"
      },
      "outputs": [
        {
          "data": {
            "text/plain": [
              "(221, 199, 149, 301)"
            ]
          },
          "execution_count": 14,
          "metadata": {},
          "output_type": "execute_result"
        }
      ],
      "source": [
        "# Other error analysis measures. \n",
        "# 1) Number of constraints satisfied by all three columns (Base, SFT, and Instruct)\n",
        "all_satisfied = df[(df['Base'] == 1) & (df['SFT'] == 1) & (df['Instruct'] == 1)].shape[0]\n",
        "\n",
        "# 2) Not satisfied in BASE but satisfied in both SFT and Instruct\n",
        "not_base_but_others = df[(df['Base'] == 0) & (df['SFT'] == 1) & (df['Instruct'] == 1)].shape[0]\n",
        "\n",
        "# 3) Only satisfied in Instruct\n",
        "only_instruct = df[(df['Base'] == 0) & (df['SFT'] == 0) & (df['Instruct'] == 1)].shape[0]\n",
        "\n",
        "# 4) Never satisfied in all three columns\n",
        "never_satisfied = df[(df['Base'] == 0) & (df['SFT'] == 0) & (df['Instruct'] == 0)].shape[0]\n",
        "\n",
        "all_satisfied, not_base_but_others, only_instruct, never_satisfied\n"
      ]
    },
    {
      "cell_type": "code",
      "execution_count": null,
      "metadata": {
        "colab": {
          "base_uri": "https://localhost:8080/"
        },
        "id": "_VoKxrkDBmVi",
        "outputId": "37ab3e97-d6b2-4108-87b6-06fb0e7e3cae"
      },
      "outputs": [
        {
          "data": {
            "text/plain": [
              "(77, 71)"
            ]
          },
          "execution_count": 15,
          "metadata": {},
          "output_type": "execute_result"
        }
      ],
      "source": [
        "# Only satisfied in Base\n",
        "only_base = df[(df['Base'] == 1) & (df['SFT'] == 0) & (df['Instruct'] == 0)].shape[0]\n",
        "\n",
        "# Only satisfied in SFT\n",
        "only_sft = df[(df['Base'] == 0) & (df['SFT'] == 1) & (df['Instruct'] == 0)].shape[0]\n",
        "\n",
        "only_base, only_sft"
      ]
    },
    {
      "cell_type": "code",
      "execution_count": null,
      "metadata": {
        "colab": {
          "base_uri": "https://localhost:8080/"
        },
        "id": "BzePJQF3CToQ",
        "outputId": "97ab88ae-1aea-4186-c40f-d4fcc2f5f912"
      },
      "outputs": [
        {
          "data": {
            "text/plain": [
              "(199, 60, 53)"
            ]
          },
          "execution_count": 19,
          "metadata": {},
          "output_type": "execute_result"
        }
      ],
      "source": [
        "# Calculate the constraints not satisfied in exactly one column for each column\n",
        "\n",
        "# Not satisfied in exactly one column - Base\n",
        "not_satisfied_base = df[(df['Base'] == 0) & (df['SFT'] == 1) & (df['Instruct'] == 1)].shape[0]\n",
        "\n",
        "# Not satisfied in exactly one column - SFT\n",
        "not_satisfied_sft = df[(df['SFT'] == 0) & (df['Base'] == 1) & (df['Instruct'] == 1)].shape[0]\n",
        "\n",
        "# Not satisfied in exactly one column - Instruct\n",
        "not_satisfied_instruct = df[(df['Instruct'] == 0) & (df['Base'] == 1) & (df['SFT'] == 1)].shape[0]\n",
        "\n",
        "not_satisfied_base, not_satisfied_sft, not_satisfied_instruct"
      ]
    },
    {
      "cell_type": "code",
      "execution_count": null,
      "metadata": {
        "colab": {
          "base_uri": "https://localhost:8080/",
          "height": 17
        },
        "id": "oq7yxh0jCdbg",
        "outputId": "3fb8d687-4341-46fd-ba35-7166a54b3f56"
      },
      "outputs": [
        {
          "data": {
            "application/javascript": "\n    async function download(id, filename, size) {\n      if (!google.colab.kernel.accessAllowed) {\n        return;\n      }\n      const div = document.createElement('div');\n      const label = document.createElement('label');\n      label.textContent = `Downloading \"${filename}\": `;\n      div.appendChild(label);\n      const progress = document.createElement('progress');\n      progress.max = size;\n      div.appendChild(progress);\n      document.body.appendChild(div);\n\n      const buffers = [];\n      let downloaded = 0;\n\n      const channel = await google.colab.kernel.comms.open(id);\n      // Send a message to notify the kernel that we're ready.\n      channel.send({})\n\n      for await (const message of channel.messages) {\n        // Send a message to notify the kernel that we're ready.\n        channel.send({})\n        if (message.buffers) {\n          for (const buffer of message.buffers) {\n            buffers.push(buffer);\n            downloaded += buffer.byteLength;\n            progress.value = downloaded;\n          }\n        }\n      }\n      const blob = new Blob(buffers, {type: 'application/binary'});\n      const a = document.createElement('a');\n      a.href = window.URL.createObjectURL(blob);\n      a.download = filename;\n      div.appendChild(a);\n      a.click();\n      div.remove();\n    }\n  ",
            "text/plain": [
              "<IPython.core.display.Javascript object>"
            ]
          },
          "metadata": {},
          "output_type": "display_data"
        },
        {
          "data": {
            "application/javascript": "download(\"download_56b23c88-5dba-4c10-bba5-b7ab24c05900\", \"Error Anal_D3_Binary.csv\", 85574)",
            "text/plain": [
              "<IPython.core.display.Javascript object>"
            ]
          },
          "metadata": {},
          "output_type": "display_data"
        }
      ],
      "source": [
        "# Save CSV file. \n",
        "df.to_csv('Your_Path.csv', index=False)\n",
        "files.download('Your_Path.csv')"
      ]
    },
    {
      "cell_type": "code",
      "execution_count": null,
      "metadata": {
        "id": "N8Gk0uLVEkBY"
      },
      "outputs": [],
      "source": [
        "\"\"\"\n",
        "Prompt to GPT4 for to analyize Error Analysis: -\n",
        "You are an expert reader and pattern analyzer. Go through the CSV sheet for me. It has a list of constraints in one column followed by whether the constraint is being satisfied (1) or not (0) by three models named Base, SFT, and Instruct.  For each of the following cases, go through the corresponding constraints. Find characteristics, differences, and patterns among these constraints. For example, a pattern could be that constraints satisfied by no model usually have a dialogue related constraint or have a Proper noun in it. For each case, come up with five patterns like this, and then come up with 10 examples from the CSV sheet to justify/explain your pattern.\n",
        "\n",
        "1) Constraints satisfied by all models (1, 1, 1)\n",
        "2) Constraints satisfied by SFT and Instruct, but not by Base (0, 1, 1)\n",
        "3) Constraints satisfied by only Instruct (0, 0, 1)\n",
        "4) Constraints satisfied by None (0, 0, 0)\n",
        "\"\"\""
      ]
    }
  ],
  "metadata": {
    "colab": {
      "provenance": []
    },
    "kernelspec": {
      "display_name": "Python 3",
      "name": "python3"
    },
    "language_info": {
      "name": "python"
    }
  },
  "nbformat": 4,
  "nbformat_minor": 0
}
